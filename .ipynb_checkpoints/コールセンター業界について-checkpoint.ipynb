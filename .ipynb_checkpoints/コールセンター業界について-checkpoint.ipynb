{
 "cells": [
  {
   "cell_type": "markdown",
   "metadata": {},
   "source": [
    "# コールセンター業界について"
   ]
  },
  {
   "cell_type": "markdown",
   "metadata": {},
   "source": [
    "##  参考\n",
    "\n",
    "とりあえず、ググってすぐ見つかった記事  \n",
    "https://shukatsu-mirai.com/archives/60789\n",
    "\n",
    "https://jobs.backs.co.jp/knowledge/callcenter/callcenter.html\n",
    "\n",
    "https://jobs.backs.co.jp/knowledge/callcenter/organization.html\n",
    "\n",
    "https://jobs.backs.co.jp/knowledge/callcenter/fit.html\n",
    "\n",
    "**参考になるかも！**  \n",
    "[コールセンターにおけるインバウンド予測(UNISYS TECHNOLOGY REVIEW 第 87 号，NOV. 2005, 伊藤 稔](https://www.unisys.co.jp/tec_info/tr87/8702.pdf)\n",
    "\n",
    "経済産業省のデータを確認したい  \n",
    "https://www.meti.go.jp/statistics/tyo/tokusabizi/index.html  \n",
    "https://www.meti.go.jp/policy/servicepolicy/contents/management_support/management_support_01.html\n",
    "\n",
    "その他  \n",
    "AIがコールセンターにハマった横浜銀行、ニーズ予測と提案営業で取引増  \n",
    "https://tech.nikkeibp.co.jp/atcl/nxt/column/18/00678/100700014/?ST=ch_businessAI  \n",
    "  \n",
    "コールセンターの退職予備軍をAIで予測し、半年で離職者を半分にできた理由  \n",
    "https://www.itmedia.co.jp/enterprise/articles/1809/05/news001.html  \n"
   ]
  },
  {
   "cell_type": "markdown",
   "metadata": {},
   "source": [
    "### 知識が求められる\n",
    "テクニカルサポートでは専門的な知識も求められる  \n",
    "電話対応のスキルやコミュニケーション力が高ければそれだけで良いというわけではない  \n",
    "→オペレーターにもドメイン知識が求められる  \n",
    "\n",
    "### コールセンター業界の業績推移について\n",
    "  \n",
    "* 業界規模　9813億円    \n",
    "業界規模は大きい。\n",
    "\n",
    "* 平均年収　308万円  \n",
    "年収は平均より低い  \n",
    "（中央値と比較すると？オペレーター個人や会社ごとに違いは？インバウンド、アウトバウンド、インハウス等での違いは？）  \n",
    "  \n",
    "* 平均勤続年数　2年  \n",
    "平均勤続年数が2年と短い。主な退職理由は？  \n",
    "  \n",
    "### 職種分類\n",
    "* オペレーター  \n",
    "* SV  \n",
    "\n",
    "\n",
    "引用\n",
    "https://shukatsu-mirai.com/archives/60789"
   ]
  },
  {
   "cell_type": "code",
   "execution_count": null,
   "metadata": {},
   "outputs": [],
   "source": []
  },
  {
   "cell_type": "code",
   "execution_count": null,
   "metadata": {},
   "outputs": [],
   "source": []
  }
 ],
 "metadata": {
  "kernelspec": {
   "display_name": "Python 3",
   "language": "python",
   "name": "python3"
  },
  "language_info": {
   "codemirror_mode": {
    "name": "ipython",
    "version": 3
   },
   "file_extension": ".py",
   "mimetype": "text/x-python",
   "name": "python",
   "nbconvert_exporter": "python",
   "pygments_lexer": "ipython3",
   "version": "3.7.3"
  }
 },
 "nbformat": 4,
 "nbformat_minor": 2
}
